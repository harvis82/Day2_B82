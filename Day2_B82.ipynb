{
 "cells": [
  {
   "cell_type": "code",
   "execution_count": null,
   "id": "12dd2897",
   "metadata": {},
   "outputs": [],
   "source": [
    "Intro to Python Programming"
   ]
  },
  {
   "cell_type": "code",
   "execution_count": null,
   "id": "ab2f5199",
   "metadata": {},
   "outputs": [],
   "source": []
  },
  {
   "cell_type": "code",
   "execution_count": 1,
   "id": "03bdb397",
   "metadata": {},
   "outputs": [
    {
     "ename": "SyntaxError",
     "evalue": "invalid syntax (3203773614.py, line 1)",
     "output_type": "error",
     "traceback": [
      "\u001b[1;36m  Cell \u001b[1;32mIn[1], line 1\u001b[1;36m\u001b[0m\n\u001b[1;33m    Understanding varables in Python\u001b[0m\n\u001b[1;37m                  ^\u001b[0m\n\u001b[1;31mSyntaxError\u001b[0m\u001b[1;31m:\u001b[0m invalid syntax\n"
     ]
    }
   ],
   "source": [
    "Understanding varables in Python\n",
    "\n"
   ]
  },
  {
   "cell_type": "code",
   "execution_count": 11,
   "id": "93cb72de",
   "metadata": {},
   "outputs": [],
   "source": [
    "x = 2\n",
    "y = 1"
   ]
  },
  {
   "cell_type": "code",
   "execution_count": 13,
   "id": "07634afd",
   "metadata": {},
   "outputs": [
    {
     "name": "stdout",
     "output_type": "stream",
     "text": [
      "3\n"
     ]
    }
   ],
   "source": [
    "z = x+y\n",
    "print(z)"
   ]
  },
  {
   "cell_type": "code",
   "execution_count": null,
   "id": "e93e5b09",
   "metadata": {},
   "outputs": [],
   "source": []
  },
  {
   "cell_type": "code",
   "execution_count": null,
   "id": "e86e6a90",
   "metadata": {},
   "outputs": [],
   "source": [
    "Rules for declaring variables:"
   ]
  },
  {
   "cell_type": "code",
   "execution_count": null,
   "id": "74f47ed2",
   "metadata": {},
   "outputs": [],
   "source": [
    "Rule no 1 - No namespaces while declaring the variable name"
   ]
  },
  {
   "cell_type": "code",
   "execution_count": 15,
   "id": "5a4b18d5",
   "metadata": {},
   "outputs": [
    {
     "name": "stdout",
     "output_type": "stream",
     "text": [
      "Hareesh\n"
     ]
    }
   ],
   "source": [
    "first_name = 'Hareesh'\n",
    "print (first_name)\n"
   ]
  },
  {
   "cell_type": "code",
   "execution_count": null,
   "id": "7b5e3a8e",
   "metadata": {},
   "outputs": [],
   "source": [
    "Rule no 2:  A variable name should not start with a number **  but you can keep at the end or in the middle"
   ]
  },
  {
   "cell_type": "code",
   "execution_count": 18,
   "id": "561d50de",
   "metadata": {},
   "outputs": [
    {
     "ename": "SyntaxError",
     "evalue": "invalid decimal literal (2862636851.py, line 1)",
     "output_type": "error",
     "traceback": [
      "\u001b[1;36m  Cell \u001b[1;32mIn[18], line 1\u001b[1;36m\u001b[0m\n\u001b[1;33m    1name = 'james'\u001b[0m\n\u001b[1;37m    ^\u001b[0m\n\u001b[1;31mSyntaxError\u001b[0m\u001b[1;31m:\u001b[0m invalid decimal literal\n"
     ]
    }
   ],
   "source": [
    "1name = 'james'\n",
    "\n",
    "print (1name)"
   ]
  },
  {
   "cell_type": "code",
   "execution_count": 19,
   "id": "e2fcdbc8",
   "metadata": {},
   "outputs": [
    {
     "name": "stdout",
     "output_type": "stream",
     "text": [
      "james\n"
     ]
    }
   ],
   "source": [
    "name1 = 'james'\n",
    "print (name1)"
   ]
  },
  {
   "cell_type": "code",
   "execution_count": 21,
   "id": "dacc0ac5",
   "metadata": {},
   "outputs": [
    {
     "ename": "SyntaxError",
     "evalue": "invalid syntax (3141427420.py, line 1)",
     "output_type": "error",
     "traceback": [
      "\u001b[1;36m  Cell \u001b[1;32mIn[21], line 1\u001b[1;36m\u001b[0m\n\u001b[1;33m    rule 3:  A varable name should not contain any special chars\u001b[0m\n\u001b[1;37m         ^\u001b[0m\n\u001b[1;31mSyntaxError\u001b[0m\u001b[1;31m:\u001b[0m invalid syntax\n"
     ]
    }
   ],
   "source": [
    "rule 3:  A varable name should not contain any special chars\n",
    "    \n",
    "name** = 'james'\n",
    "\n",
    "print (name**)"
   ]
  },
  {
   "cell_type": "code",
   "execution_count": null,
   "id": "5115cd45",
   "metadata": {},
   "outputs": [],
   "source": [
    "Introduction to data types in Python\n",
    "\n",
    "1. Strings ==>  str\n",
    "2. Number ==> Integers ==> int, floats (decimals) ==> 0.1, 0.2 ==> float\n",
    "3. Lists ==> List\n",
    "4. tuples ==> tuple\n",
    "5. Doctionatries ==> dict\n",
    "\n"
   ]
  },
  {
   "cell_type": "code",
   "execution_count": null,
   "id": "dec3cd05",
   "metadata": {},
   "outputs": [],
   "source": []
  },
  {
   "cell_type": "code",
   "execution_count": 22,
   "id": "dba61c44",
   "metadata": {},
   "outputs": [
    {
     "ename": "SyntaxError",
     "evalue": "invalid syntax (3016576623.py, line 1)",
     "output_type": "error",
     "traceback": [
      "\u001b[1;36m  Cell \u001b[1;32mIn[22], line 1\u001b[1;36m\u001b[0m\n\u001b[1;33m    Classification of datatypes:\u001b[0m\n\u001b[1;37m                   ^\u001b[0m\n\u001b[1;31mSyntaxError\u001b[0m\u001b[1;31m:\u001b[0m invalid syntax\n"
     ]
    }
   ],
   "source": [
    "Classification of datatypes:\n",
    "    Broadly speaking  data types are classified in two different categories\n",
    "    \n",
    "    \n",
    "    1. Mutables datatypes  ==>  which we can able to edit / alter ===>  flexible in nature\n",
    "    \n",
    "    2. Immutables datatypoes ==> which we cannot able to edit /alter ==> fixed in the nature\n",
    "    "
   ]
  },
  {
   "cell_type": "code",
   "execution_count": null,
   "id": "169d0434",
   "metadata": {},
   "outputs": [],
   "source": [
    "\n",
    "\n"
   ]
  },
  {
   "cell_type": "code",
   "execution_count": 24,
   "id": "ccbdd37e",
   "metadata": {},
   "outputs": [
    {
     "ename": "SyntaxError",
     "evalue": "invalid syntax (589843435.py, line 1)",
     "output_type": "error",
     "traceback": [
      "\u001b[1;36m  Cell \u001b[1;32mIn[24], line 1\u001b[1;36m\u001b[0m\n\u001b[1;33m    Intro to string datatype:\u001b[0m\n\u001b[1;37m          ^\u001b[0m\n\u001b[1;31mSyntaxError\u001b[0m\u001b[1;31m:\u001b[0m invalid syntax\n"
     ]
    }
   ],
   "source": [
    "Intro to string datatype:\n",
    "    \n",
    "    A String is a series of characters declred in quotes\n",
    "    \n",
    "    Classification:  it is an immutable datatypes\n",
    "        \n",
    "        how to define a string\n",
    "        \n",
    "        1. single quote\n",
    "        2. double quote\n",
    "        \n",
    "        Both single or double quotes are fine\n",
    "        \n",
    "        "
   ]
  },
  {
   "cell_type": "code",
   "execution_count": 26,
   "id": "160cec23",
   "metadata": {},
   "outputs": [
    {
     "name": "stdout",
     "output_type": "stream",
     "text": [
      "dhaval\n"
     ]
    }
   ],
   "source": [
    "a = 'dhaval'   # single quote\n",
    "print(a)"
   ]
  },
  {
   "cell_type": "code",
   "execution_count": 28,
   "id": "002044c6",
   "metadata": {},
   "outputs": [
    {
     "name": "stdout",
     "output_type": "stream",
     "text": [
      "arul\n"
     ]
    }
   ],
   "source": [
    "b = \"arul\"   # double quote\n",
    "print (b)"
   ]
  },
  {
   "cell_type": "code",
   "execution_count": null,
   "id": "eb1598cd",
   "metadata": {},
   "outputs": [],
   "source": [
    "# is used for cmmenting the lines\n"
   ]
  },
  {
   "cell_type": "code",
   "execution_count": null,
   "id": "e4ffa2f8",
   "metadata": {},
   "outputs": [],
   "source": []
  },
  {
   "cell_type": "code",
   "execution_count": null,
   "id": "af93bcee",
   "metadata": {},
   "outputs": [],
   "source": []
  },
  {
   "cell_type": "code",
   "execution_count": null,
   "id": "a4257597",
   "metadata": {},
   "outputs": [],
   "source": []
  },
  {
   "cell_type": "code",
   "execution_count": null,
   "id": "f7b1cc91",
   "metadata": {},
   "outputs": [],
   "source": []
  },
  {
   "cell_type": "code",
   "execution_count": null,
   "id": "69454a8b",
   "metadata": {},
   "outputs": [],
   "source": []
  },
  {
   "cell_type": "code",
   "execution_count": null,
   "id": "ce988298",
   "metadata": {},
   "outputs": [],
   "source": []
  }
 ],
 "metadata": {
  "kernelspec": {
   "display_name": "Python 3 (ipykernel)",
   "language": "python",
   "name": "python3"
  },
  "language_info": {
   "codemirror_mode": {
    "name": "ipython",
    "version": 3
   },
   "file_extension": ".py",
   "mimetype": "text/x-python",
   "name": "python",
   "nbconvert_exporter": "python",
   "pygments_lexer": "ipython3",
   "version": "3.11.4"
  }
 },
 "nbformat": 4,
 "nbformat_minor": 5
}
